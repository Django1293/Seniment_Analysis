{
 "cells": [
  {
   "cell_type": "markdown",
   "id": "21365e12",
   "metadata": {
    "papermill": {
     "duration": 0.023551,
     "end_time": "2021-11-18T23:24:39.469059",
     "exception": false,
     "start_time": "2021-11-18T23:24:39.445508",
     "status": "completed"
    },
    "tags": []
   },
   "source": [
    "# SENTIMENT CLASSIFICATION ANALYSIS USING WORDLIST CLASSIFIER AND NAIVE BAYES CLASSIFIER\n",
    "Here in this analysis,I am doing the comparison between wordlist classifier and Naive Bayes classifier for sentiment classification using the measurements **Precision**, **Recall**, **Accuracy** and **F-1 Score**. The data used for the analysis is `movie_reviews` from `nltk.corpus`"
   ]
  },
  {
   "cell_type": "code",
   "execution_count": 1,
   "id": "cff893ed",
   "metadata": {
    "execution": {
     "iopub.execute_input": "2021-11-18T23:24:39.513823Z",
     "iopub.status.busy": "2021-11-18T23:24:39.512711Z",
     "iopub.status.idle": "2021-11-18T23:24:41.520662Z",
     "shell.execute_reply": "2021-11-18T23:24:41.521242Z",
     "shell.execute_reply.started": "2021-11-18T18:12:05.976376Z"
    },
    "id": "nk8JTP88A8vs",
    "outputId": "b90001d1-4841-4998-d025-a4865c28f473",
    "papermill": {
     "duration": 2.03185,
     "end_time": "2021-11-18T23:24:41.521547",
     "exception": false,
     "start_time": "2021-11-18T23:24:39.489697",
     "status": "completed"
    },
    "tags": []
   },
   "outputs": [
    {
     "name": "stdout",
     "output_type": "stream",
     "text": [
      "[nltk_data] Downloading package punkt to /usr/share/nltk_data...\n",
      "[nltk_data]   Package punkt is already up-to-date!\n",
      "[nltk_data] Downloading package stopwords to /usr/share/nltk_data...\n",
      "[nltk_data]   Package stopwords is already up-to-date!\n",
      "[nltk_data] Downloading package movie_reviews to\n",
      "[nltk_data]     /usr/share/nltk_data...\n",
      "[nltk_data]   Package movie_reviews is already up-to-date!\n"
     ]
    }
   ],
   "source": [
    "#set up nltk\n",
    "import nltk\n",
    "nltk.download('punkt')\n",
    "nltk.download('stopwords')\n",
    "nltk.download('movie_reviews')\n",
    "from nltk.corpus import stopwords\n",
    "from nltk.tokenize import word_tokenize\n",
    "from nltk.corpus import movie_reviews\n",
    "\n",
    "#for setting up training and testing data\n",
    "import random\n",
    "\n",
    "#useful other tools\n",
    "import re\n",
    "import pandas as pd\n",
    "import matplotlib.pyplot as plt\n",
    "%matplotlib inline\n",
    "from itertools import zip_longest\n",
    "from nltk.probability import FreqDist\n",
    "from nltk.classify.api import ClassifierI\n"
   ]
  },
  {
   "cell_type": "code",
   "execution_count": 2,
   "id": "9a7fe77e",
   "metadata": {
    "execution": {
     "iopub.execute_input": "2021-11-18T23:24:41.574144Z",
     "iopub.status.busy": "2021-11-18T23:24:41.573527Z",
     "iopub.status.idle": "2021-11-18T23:24:41.575530Z",
     "shell.execute_reply": "2021-11-18T23:24:41.576055Z",
     "shell.execute_reply.started": "2021-11-18T18:12:05.989675Z"
    },
    "id": "BHBkzAccCVaZ",
    "papermill": {
     "duration": 0.03254,
     "end_time": "2021-11-18T23:24:41.576214",
     "exception": false,
     "start_time": "2021-11-18T23:24:41.543674",
     "status": "completed"
    },
    "tags": []
   },
   "outputs": [],
   "source": [
    "def split_data(data, ratio=0.7): # when the second argument is not given, it defaults to 0.7\n",
    "    \"\"\"\n",
    "    Given corpus generator and ratio:\n",
    "     - partitions the corpus into training data and test data, where the proportion in train is ratio,\n",
    "\n",
    "    :param data: A corpus generator.\n",
    "    :param ratio: The proportion of training documents (default 0.7)\n",
    "    :return: a pair (tuple) of lists where the first element of the \n",
    "            pair is a list of the training data and the second is a list of the test data.\n",
    "    \"\"\"\n",
    "    \n",
    "    data = list(data)  \n",
    "    n = len(data)  \n",
    "    train_indices = random.sample(range(n), int(n * ratio))          \n",
    "    test_indices = list(set(range(n)) - set(train_indices))    \n",
    "    train = [data[i] for i in train_indices]           \n",
    "    test = [data[i] for i in test_indices]             \n",
    "    return (train, test)                       \n",
    " \n",
    "\n",
    "def get_train_test_data():\n",
    "    \n",
    "    #get ids of positive and negative movie reviews\n",
    "    pos_review_ids=movie_reviews.fileids('pos')\n",
    "    neg_review_ids=movie_reviews.fileids('neg')\n",
    "   \n",
    "    #split positive and negative data into training and testing sets\n",
    "    pos_train_ids, pos_test_ids = split_data(pos_review_ids)\n",
    "    neg_train_ids, neg_test_ids = split_data(neg_review_ids)\n",
    "    #add labels to the data and concatenate\n",
    "    training = [(movie_reviews.words(f),'pos') for f in pos_train_ids]+[(movie_reviews.words(f),'neg') for f in neg_train_ids]\n",
    "    testing = [(movie_reviews.words(f),'pos') for f in pos_test_ids]+[(movie_reviews.words(f),'neg') for f in neg_test_ids]\n",
    "   \n",
    "    return training, testing"
   ]
  },
  {
   "cell_type": "markdown",
   "id": "6a2934a9",
   "metadata": {
    "id": "1N3LWwBYICPP",
    "papermill": {
     "duration": 0.020106,
     "end_time": "2021-11-18T23:24:41.616836",
     "exception": false,
     "start_time": "2021-11-18T23:24:41.596730",
     "status": "completed"
    },
    "tags": []
   },
   "source": [
    "When you have run the cell below, your unique training and testing samples will be stored in `training_data` and `testing_data`"
   ]
  },
  {
   "cell_type": "code",
   "execution_count": 3,
   "id": "11b7e571",
   "metadata": {
    "execution": {
     "iopub.execute_input": "2021-11-18T23:24:41.661413Z",
     "iopub.status.busy": "2021-11-18T23:24:41.660775Z",
     "iopub.status.idle": "2021-11-18T23:24:41.733018Z",
     "shell.execute_reply": "2021-11-18T23:24:41.733433Z",
     "shell.execute_reply.started": "2021-11-18T18:12:06.007709Z"
    },
    "id": "HJLegkdPFUJA",
    "outputId": "92294329-2bbb-4eb8-a0da-f26560d0f84d",
    "papermill": {
     "duration": 0.096086,
     "end_time": "2021-11-18T23:24:41.733605",
     "exception": false,
     "start_time": "2021-11-18T23:24:41.637519",
     "status": "completed"
    },
    "tags": []
   },
   "outputs": [
    {
     "name": "stdout",
     "output_type": "stream",
     "text": [
      "The amount of training data is 1400\n",
      "The amount of testing data is 600\n",
      "The representation of a single data item is below\n",
      "(['some', 'critics', ',', 'including', 'siskel', '&', ...], 'pos')\n"
     ]
    }
   ],
   "source": [
    "random.seed(133)#seeding the data so that the results won't change on multiple run on the cell\n",
    "training_data,testing_data=get_train_test_data()\n",
    "print(\"The amount of training data is {}\".format(len(training_data)))\n",
    "print(\"The amount of testing data is {}\".format(len(testing_data)))\n",
    "print(\"The representation of a single data item is below\")\n",
    "print(training_data[0])"
   ]
  },
  {
   "cell_type": "markdown",
   "id": "a7514969",
   "metadata": {
    "id": "tByYIMiaRA8q",
    "papermill": {
     "duration": 0.020399,
     "end_time": "2021-11-18T23:24:41.774679",
     "exception": false,
     "start_time": "2021-11-18T23:24:41.754280",
     "status": "completed"
    },
    "tags": []
   },
   "source": [
    "### WORDLIST CLASSIFIER"
   ]
  },
  {
   "cell_type": "markdown",
   "id": "98e71b6a",
   "metadata": {
    "id": "fTb23wBs8F0E",
    "papermill": {
     "duration": 0.020434,
     "end_time": "2021-11-18T23:24:41.815977",
     "exception": false,
     "start_time": "2021-11-18T23:24:41.795543",
     "status": "completed"
    },
    "tags": []
   },
   "source": [
    "From nltk.corpus stopwords module has been imported and a function ```normalise\n",
    "``` has been created, which lowers each word in the wordlist and removes the common stopwords in the english language"
   ]
  },
  {
   "cell_type": "code",
   "execution_count": 4,
   "id": "9de1cf74",
   "metadata": {
    "execution": {
     "iopub.execute_input": "2021-11-18T23:24:41.860916Z",
     "iopub.status.busy": "2021-11-18T23:24:41.859977Z",
     "iopub.status.idle": "2021-11-18T23:24:41.867263Z",
     "shell.execute_reply": "2021-11-18T23:24:41.867825Z",
     "shell.execute_reply.started": "2021-11-18T18:12:06.108738Z"
    },
    "id": "VxWsxLRrRA8r",
    "papermill": {
     "duration": 0.031577,
     "end_time": "2021-11-18T23:24:41.868022",
     "exception": false,
     "start_time": "2021-11-18T23:24:41.836445",
     "status": "completed"
    },
    "tags": []
   },
   "outputs": [],
   "source": [
    "from nltk.corpus import stopwords\n",
    "stop = stopwords.words('english')\n",
    "# function for normalising and filtering the training and testing data \n",
    "def normalise(wordlist):\n",
    "    lowered=[word.lower() for word in wordlist] \n",
    "    filtered=[word for word in lowered if word.isalpha() and word not in stop]\n",
    "    return filtered"
   ]
  },
  {
   "cell_type": "markdown",
   "id": "e1a2b8a3",
   "metadata": {
    "id": "fvHVJmXs9Pft",
    "papermill": {
     "duration": 0.023617,
     "end_time": "2021-11-18T23:24:41.914745",
     "exception": false,
     "start_time": "2021-11-18T23:24:41.891128",
     "status": "completed"
    },
    "tags": []
   },
   "source": [
    "`training_norm` and `testing_norm`, which are list of tuple containing frequency distribution and its correponding Label (ie positive or negative review) is created using list comprehension and then all the frequency distribution curresponding to positive and negative reviews are summed up. Finally, We finds the content words corresponding to positive and negative feedback by finding out the difference in frequencies of in which they occure in the training sample. The code is given below."
   ]
  },
  {
   "cell_type": "code",
   "execution_count": 5,
   "id": "9b1bc888",
   "metadata": {
    "execution": {
     "iopub.execute_input": "2021-11-18T23:24:41.963673Z",
     "iopub.status.busy": "2021-11-18T23:24:41.962641Z",
     "iopub.status.idle": "2021-11-18T23:24:49.232926Z",
     "shell.execute_reply": "2021-11-18T23:24:49.232213Z",
     "shell.execute_reply.started": "2021-11-18T18:12:06.120279Z"
    },
    "id": "e1d_CYh6RA8s",
    "outputId": "80cfebe0-4212-4dbe-c44d-775f36de832a",
    "papermill": {
     "duration": 7.29625,
     "end_time": "2021-11-18T23:24:49.233121",
     "exception": false,
     "start_time": "2021-11-18T23:24:41.936871",
     "status": "completed"
    },
    "tags": []
   },
   "outputs": [
    {
     "name": "stdout",
     "output_type": "stream",
     "text": [
      "Most common positive words are ['film', 'life', 'also', 'well', 'great', 'many', 'best', 'world', 'story', 'one']\n",
      "Most common negative words are ['movie', 'bad', 'get', 'plot', 'even', 'worst', 'nothing', 'script', 'supposed', 'boring']\n"
     ]
    }
   ],
   "source": [
    "training_norm=[(FreqDist(normalise(wordlist)),label) for (wordlist,label) in training_data]\n",
    "testing_norm=[(FreqDist(normalise(wordlist)),label) for (wordlist,label) in testing_data]\n",
    "\n",
    "#creates instances of FreqDist class\n",
    "pos_freq_dist=FreqDist()\n",
    "neg_freq_dist=FreqDist()\n",
    "\n",
    "# positive and negative comments are classified into different frequency distribution using the lable\n",
    "for reviewDist,label in training_norm:\n",
    "    if label=='pos':\n",
    "        pos_freq_dist+=reviewDist\n",
    "    else:\n",
    "        neg_freq_dist+=reviewDist\n",
    "        \n",
    "#the differnce of frequency of appearence of each word in the documents are classified into pos_diff and neg_diff\n",
    "pos_diff = pos_freq_dist - neg_freq_dist\n",
    "neg_diff = neg_freq_dist - pos_freq_dist\n",
    "\n",
    "pos_wordlist=[i[0] for i in pos_diff.most_common(10)]\n",
    "neg_wordlist=[i[0] for i in neg_diff.most_common(10)]\n",
    "print('Most common positive words are {}'.format(pos_wordlist))\n",
    "print('Most common negative words are {}'.format(neg_wordlist))"
   ]
  },
  {
   "cell_type": "markdown",
   "id": "d5eb9c72",
   "metadata": {
    "id": "Dmu2Iw89RA8u",
    "papermill": {
     "duration": 0.021145,
     "end_time": "2021-11-18T23:24:49.275870",
     "exception": false,
     "start_time": "2021-11-18T23:24:49.254725",
     "status": "completed"
    },
    "tags": []
   },
   "source": [
    "If we had only taken the frequency count in which the words appear in positive and negative comments,then there are many words like movie, films etc. which appears frequently in both the lists and it is not logical to classify the reviews based on this. So, taking frequency difference is the better way to identify the content words indicating positive and negative reviews because the way we use language to express different emotions are different. Hence, the number of times one will use a perticular word in a postive comment will be most probably different from the number of words the person will use in a negative comment.\n"
   ]
  },
  {
   "cell_type": "markdown",
   "id": "e4c2bab5",
   "metadata": {
    "id": "-TFaXbkAYIxN",
    "papermill": {
     "duration": 0.020933,
     "end_time": "2021-11-18T23:24:49.318002",
     "exception": false,
     "start_time": "2021-11-18T23:24:49.297069",
     "status": "completed"
    },
    "tags": []
   },
   "source": [
    "To generate a wordlist classifier class, `ClassifierI` parent class imported from `nltk.classify.api` and new method `classify` is defined. The method takes the frequency distribution of the words as the parameter and increment or decrement a counter with the frequency of each word, depending upon whether the word actually belongs to the positive wordlist or negative wordlist. In this classifier I have not considered the the words which doesn't belong to either positive or negative wordlist. One way is to randomly assign those words as either positive or negative and count the score, but since the value we count is the frequency of the occurance of that word and not +1 or -1 it might create an unnecessary weightage to either positive or negative review if the freqency of the word which is not in either list is so large. \n",
    "\n",
    "After creating the classifier class, and instance `WordlistClassifier` is created."
   ]
  },
  {
   "cell_type": "code",
   "execution_count": 6,
   "id": "3c43274d",
   "metadata": {
    "execution": {
     "iopub.execute_input": "2021-11-18T23:24:49.363349Z",
     "iopub.status.busy": "2021-11-18T23:24:49.362760Z",
     "iopub.status.idle": "2021-11-18T23:24:49.368258Z",
     "shell.execute_reply": "2021-11-18T23:24:49.368805Z",
     "shell.execute_reply.started": "2021-11-18T18:12:13.270656Z"
    },
    "id": "BThDMrcmODJy",
    "papermill": {
     "duration": 0.029772,
     "end_time": "2021-11-18T23:24:49.368960",
     "exception": false,
     "start_time": "2021-11-18T23:24:49.339188",
     "status": "completed"
    },
    "tags": []
   },
   "outputs": [],
   "source": [
    "from nltk.classify.api import ClassifierI\n",
    "\n",
    "#SimpleClassifier inherits ClassifierI(later used for `classify_many` method)\n",
    "class SimpleClassifier(ClassifierI): \n",
    "\n",
    "    def __init__(self, pos, neg): \n",
    "        self._pos = pos \n",
    "        self._neg = neg \n",
    "\n",
    "    def classify(self, doc): \n",
    "        #doc is a FreqDist\n",
    "        score = 0\n",
    "        \n",
    " #calculates the total score of the document by anlysing each review classification       \n",
    "        for word,value in doc.items():\n",
    "            if word in self._pos:\n",
    "                score+=value\n",
    "            if word in self._neg:\n",
    "                score-=value\n",
    "        \n",
    "        return \"neg\" if score < 0 else \"pos\" \n",
    "\n",
    "     \n",
    "\n",
    "    def labels(self): \n",
    "        return (\"pos\", \"neg\")\n"
   ]
  },
  {
   "cell_type": "code",
   "execution_count": 7,
   "id": "977d9b55",
   "metadata": {
    "execution": {
     "iopub.execute_input": "2021-11-18T23:24:49.414555Z",
     "iopub.status.busy": "2021-11-18T23:24:49.413944Z",
     "iopub.status.idle": "2021-11-18T23:24:49.421921Z",
     "shell.execute_reply": "2021-11-18T23:24:49.421429Z",
     "shell.execute_reply.started": "2021-11-18T18:12:13.279365Z"
    },
    "id": "AIhmpd16Z0EB",
    "outputId": "5474c498-cfc5-48d0-b669-389a3110e236",
    "papermill": {
     "duration": 0.032011,
     "end_time": "2021-11-18T23:24:49.422047",
     "exception": false,
     "start_time": "2021-11-18T23:24:49.390036",
     "status": "completed"
    },
    "tags": []
   },
   "outputs": [
    {
     "data": {
      "text/plain": [
       "'pos'"
      ]
     },
     "execution_count": 7,
     "metadata": {},
     "output_type": "execute_result"
    }
   ],
   "source": [
    "WordListClassifier = SimpleClassifier(pos_wordlist,neg_wordlist)# created an instance of the classifier\n",
    "WordListClassifier.classify(FreqDist(training_norm[0][0])) # to check if the code is working as expected a frequency distribution is given to the classifier instance as a parameter"
   ]
  },
  {
   "cell_type": "markdown",
   "id": "ab0d0f19",
   "metadata": {
    "id": "f60ldtSisR4K",
    "papermill": {
     "duration": 0.020914,
     "end_time": "2021-11-18T23:24:49.464271",
     "exception": false,
     "start_time": "2021-11-18T23:24:49.443357",
     "status": "completed"
    },
    "tags": []
   },
   "source": [
    "To calculate the accuracy of the classifier `WordListClassifier` a function `classifier_evaluate` is generated. The `classifier_evaluate` takes in the classifer we created and the test_data as parameters. From the test_data the Frequency distribution and the label ('pos' or 'neg') is extracted. For each prediction by the classifier, the prediction is compared with the actual label and if both are same, counter `acc` is added by one.\n",
    "\n",
    "The accuracy of the classifier is defined as $\\frac{Number\\thinspace  of \\thinspace correct \\thinspace predictions}{length \\thinspace of \\, data}$"
   ]
  },
  {
   "cell_type": "code",
   "execution_count": 8,
   "id": "6979a367",
   "metadata": {
    "execution": {
     "iopub.execute_input": "2021-11-18T23:24:49.513242Z",
     "iopub.status.busy": "2021-11-18T23:24:49.512476Z",
     "iopub.status.idle": "2021-11-18T23:24:49.514527Z",
     "shell.execute_reply": "2021-11-18T23:24:49.515043Z",
     "shell.execute_reply.started": "2021-11-18T18:12:13.294904Z"
    },
    "id": "WTacQ3NaRA8x",
    "papermill": {
     "duration": 0.029546,
     "end_time": "2021-11-18T23:24:49.515198",
     "exception": false,
     "start_time": "2021-11-18T23:24:49.485652",
     "status": "completed"
    },
    "tags": []
   },
   "outputs": [],
   "source": [
    "def classifier_evaluate(cls, test_data):\n",
    "    '''\n",
    "    cls: an instance of a classifier object which has a classify method which returns \"pos\" or \"neg\"\n",
    "    test_data: a list of pairs where each pair is a FreqDist rep of a doc and its label\n",
    "  \n",
    "    returns: float point number which is the accuracy of the classifier on the test data provided \n",
    "    '''\n",
    "    acc = 0 #initiating counter\n",
    "    docs,goldstandard=zip(*test_data) #to convert list of pair to pair of list\n",
    "    for prediction,goldlabel in zip(predictions,goldstandard):\n",
    "        if prediction==goldlabel:\n",
    "            acc+=1\n",
    "    \n",
    "    return acc / (len(test_data)) #returns the accuracy "
   ]
  },
  {
   "cell_type": "code",
   "execution_count": 9,
   "id": "9c31234d",
   "metadata": {
    "execution": {
     "iopub.execute_input": "2021-11-18T23:24:49.561255Z",
     "iopub.status.busy": "2021-11-18T23:24:49.560328Z",
     "iopub.status.idle": "2021-11-18T23:24:49.622229Z",
     "shell.execute_reply": "2021-11-18T23:24:49.621614Z",
     "shell.execute_reply.started": "2021-11-18T18:12:13.312028Z"
    },
    "id": "hAyoMpGN_PxQ",
    "papermill": {
     "duration": 0.085862,
     "end_time": "2021-11-18T23:24:49.622364",
     "exception": false,
     "start_time": "2021-11-18T23:24:49.536502",
     "status": "completed"
    },
    "tags": []
   },
   "outputs": [
    {
     "name": "stdout",
     "output_type": "stream",
     "text": [
      "The accuracy of the above classifier is 0.6066666666666667\n"
     ]
    }
   ],
   "source": [
    "docs,goldstandard = zip(*testing_norm) # to seperate the frequency distribution and the label\n",
    "predictions = WordListClassifier.classify_many(docs)\n",
    "Accuracy1 = classifier_evaluate(WordListClassifier,testing_norm)\n",
    "print('The accuracy of the above classifier is {}'.format(Accuracy1))"
   ]
  },
  {
   "cell_type": "markdown",
   "id": "6a90b9af",
   "metadata": {
    "id": "6YNBcRbJV97j",
    "papermill": {
     "duration": 0.021062,
     "end_time": "2021-11-18T23:24:49.665118",
     "exception": false,
     "start_time": "2021-11-18T23:24:49.644056",
     "status": "completed"
    },
    "tags": []
   },
   "source": [
    "A `ConfusionMatrix` class is defined so that we can find out the counts of **True positive** , **False Negative** , **False Positive** and **True Negative** and finally calculate **Precision**, **Recall** and **f1** score. \n",
    "\n",
    "* $Precision\\, (p)$ = $\\frac{TP}{TP+FP}$ = fraction of relevant instances among the retrieved instances\n",
    "\n",
    "* $Recall\\, (r)$ = $\\frac{TP}{TP+FN}$ =  fraction of relevant instances that were retrieved\n",
    "\n",
    "* $f1\\, score $ = $\\frac{2\\times p\\times r}{p+r}$ = Harmonic mean of precision and recall"
   ]
  },
  {
   "cell_type": "code",
   "execution_count": 10,
   "id": "e03b6b5d",
   "metadata": {
    "execution": {
     "iopub.execute_input": "2021-11-18T23:24:49.719350Z",
     "iopub.status.busy": "2021-11-18T23:24:49.718447Z",
     "iopub.status.idle": "2021-11-18T23:24:49.721121Z",
     "shell.execute_reply": "2021-11-18T23:24:49.720637Z",
     "shell.execute_reply.started": "2021-11-18T18:12:13.408563Z"
    },
    "id": "xZ6W9nExRA8y",
    "papermill": {
     "duration": 0.034761,
     "end_time": "2021-11-18T23:24:49.721254",
     "exception": false,
     "start_time": "2021-11-18T23:24:49.686493",
     "status": "completed"
    },
    "tags": []
   },
   "outputs": [],
   "source": [
    "class ConfusionMatrix: #defining our own confusion matrix for this analysis\n",
    "    def __init__(self,predictions,goldstandard,classes=(\"pos\",\"neg\")):\n",
    "    \n",
    "        (self.c1,self.c2)=classes\n",
    "        self.TP=0\n",
    "        self.FP=0\n",
    "        self.FN=0\n",
    "        self.TN=0\n",
    "#counts total number of True positives, True Negatives, False positives and False Negatives        \n",
    "        for p,g in zip(predictions,goldstandard):\n",
    "            if g==self.c1:\n",
    "                if p==self.c1:\n",
    "                    self.TP+=1\n",
    "                else:\n",
    "                    self.FN+=1\n",
    "        \n",
    "            elif p==self.c1:\n",
    "                self.FP+=1\n",
    "            else:\n",
    "                self.TN+=1\n",
    "        \n",
    "    \n",
    "    def precision(self):#calculates precision\n",
    "        p=0\n",
    "        \n",
    "        p = self.TP / (self.TP + self.FP)\n",
    "    \n",
    "        return p\n",
    "  \n",
    "    def recall(self):#calculates recall\n",
    "        r=0\n",
    "        \n",
    "        r = self.TP/(self.TP + self.FN)\n",
    "    \n",
    "        return r\n",
    "  \n",
    "    def f1(self):#calculates f-1 score\n",
    "        f1=0\n",
    "        \n",
    "        f1= 2*self.precision()*self.recall()/(self.precision()+self.recall())\n",
    "        return f1 "
   ]
  },
  {
   "cell_type": "markdown",
   "id": "79aa1122",
   "metadata": {
    "id": "f6Y8LuH_g7t7",
    "papermill": {
     "duration": 0.022354,
     "end_time": "2021-11-18T23:24:49.765261",
     "exception": false,
     "start_time": "2021-11-18T23:24:49.742907",
     "status": "completed"
    },
    "tags": []
   },
   "source": [
    "An instance of confusion matrix `ConfusionMatrix_1` is made and the precision, recall and f1 score is calculated by calling the corresponding classes in the `ConfusionMatrix`. The prediction by the `WordListClassifier` and the actual label is passed to the confusion matrix as the parameters to calculate the scores."
   ]
  },
  {
   "cell_type": "code",
   "execution_count": 11,
   "id": "ceea0c36",
   "metadata": {
    "execution": {
     "iopub.execute_input": "2021-11-18T23:24:49.811802Z",
     "iopub.status.busy": "2021-11-18T23:24:49.811189Z",
     "iopub.status.idle": "2021-11-18T23:24:49.814809Z",
     "shell.execute_reply": "2021-11-18T23:24:49.815226Z",
     "shell.execute_reply.started": "2021-11-18T18:12:13.420104Z"
    },
    "id": "mojJztwJRA8y",
    "papermill": {
     "duration": 0.028572,
     "end_time": "2021-11-18T23:24:49.815413",
     "exception": false,
     "start_time": "2021-11-18T23:24:49.786841",
     "status": "completed"
    },
    "tags": []
   },
   "outputs": [],
   "source": [
    "ConfusionMatrix_1 = ConfusionMatrix(predictions,goldstandard) #instance of Confusion Matrix is generated\n",
    "precision1 = ConfusionMatrix_1.precision()\n",
    "recall1= ConfusionMatrix_1.recall()\n",
    "f11= ConfusionMatrix_1.f1()"
   ]
  },
  {
   "cell_type": "markdown",
   "id": "45e4a37f",
   "metadata": {
    "id": "GTJObTgjiRr9",
    "papermill": {
     "duration": 0.021096,
     "end_time": "2021-11-18T23:24:49.858422",
     "exception": false,
     "start_time": "2021-11-18T23:24:49.837326",
     "status": "completed"
    },
    "tags": []
   },
   "source": [
    "The Calculated Precision, Recall, f1 and accuracy is printed"
   ]
  },
  {
   "cell_type": "code",
   "execution_count": 12,
   "id": "09684901",
   "metadata": {
    "execution": {
     "iopub.execute_input": "2021-11-18T23:24:49.904248Z",
     "iopub.status.busy": "2021-11-18T23:24:49.903665Z",
     "iopub.status.idle": "2021-11-18T23:24:49.908885Z",
     "shell.execute_reply": "2021-11-18T23:24:49.909326Z",
     "shell.execute_reply.started": "2021-11-18T18:12:13.437881Z"
    },
    "id": "6OxqniRcBLCA",
    "outputId": "503cfbd3-9847-46d0-e795-82948a5e4ac0",
    "papermill": {
     "duration": 0.029782,
     "end_time": "2021-11-18T23:24:49.909509",
     "exception": false,
     "start_time": "2021-11-18T23:24:49.879727",
     "status": "completed"
    },
    "tags": []
   },
   "outputs": [
    {
     "name": "stdout",
     "output_type": "stream",
     "text": [
      "The Precision of the classifier is 0.5677966101694916\n",
      "The recall of the classifier is 0.8933333333333333\n",
      "The f1 of the score the classifier is 0.6943005181347152\n",
      "The accuracy of the classifier is 0.6066666666666667\n"
     ]
    }
   ],
   "source": [
    "print('The Precision of the classifier is {}'.format(ConfusionMatrix_1.precision()))\n",
    "print( 'The recall of the classifier is {}'.format(ConfusionMatrix_1.recall()))\n",
    "print('The f1 of the score the classifier is {}'.format(ConfusionMatrix_1.f1()))\n",
    "print('The accuracy of the classifier is {}'.format(Accuracy1))"
   ]
  },
  {
   "cell_type": "markdown",
   "id": "ad073ac8",
   "metadata": {
    "id": "UY8lHcnKRDty",
    "papermill": {
     "duration": 0.021332,
     "end_time": "2021-11-18T23:24:49.952741",
     "exception": false,
     "start_time": "2021-11-18T23:24:49.931409",
     "status": "completed"
    },
    "tags": []
   },
   "source": [
    "Accuracy alone is not a good measure to evaluate a classifier. For example, a classifier which always gives the output as positive review all the time and we are giving an input in which the data contains only 5% actual negative reviews, then, the accuracy of our classifier is 95%!. Accuracy could have been a good measure if the data was balanced. But in real world cases, mostly the data will be imbalanced and measuring only accuracy is not a good practice to evaluate the classifier.To tackle this problem we measure the above defined **precision**, **recall** and **f1-score**."
   ]
  },
  {
   "cell_type": "markdown",
   "id": "ff12388b",
   "metadata": {
    "papermill": {
     "duration": 0.021275,
     "end_time": "2021-11-18T23:24:49.995670",
     "exception": false,
     "start_time": "2021-11-18T23:24:49.974395",
     "status": "completed"
    },
    "tags": []
   },
   "source": [
    "### NAIVE BAYES CLASSIFIER"
   ]
  },
  {
   "cell_type": "markdown",
   "id": "b791ece7",
   "metadata": {
    "id": "kicRfBiVX45f",
    "papermill": {
     "duration": 0.021998,
     "end_time": "2021-11-18T23:24:50.039845",
     "exception": false,
     "start_time": "2021-11-18T23:24:50.017847",
     "status": "completed"
    },
    "tags": []
   },
   "source": [
    "From `nltk.classify` the ` NaiveBayesClassifier `is  imported and an instance of the imported class `nltk_NB` is created. The Naive Bayes Classifier is then trained using the training data and then the predictions are done on the test data using classify_many method of `NaiveBayesClassifier`"
   ]
  },
  {
   "cell_type": "code",
   "execution_count": 13,
   "id": "d9c54394",
   "metadata": {
    "execution": {
     "iopub.execute_input": "2021-11-18T23:24:50.102629Z",
     "iopub.status.busy": "2021-11-18T23:24:50.101943Z",
     "iopub.status.idle": "2021-11-18T23:24:51.893828Z",
     "shell.execute_reply": "2021-11-18T23:24:51.894275Z",
     "shell.execute_reply.started": "2021-11-18T18:12:13.452033Z"
    },
    "id": "eKiJORzTRA8z",
    "papermill": {
     "duration": 1.83272,
     "end_time": "2021-11-18T23:24:51.894465",
     "exception": false,
     "start_time": "2021-11-18T23:24:50.061745",
     "status": "completed"
    },
    "tags": []
   },
   "outputs": [],
   "source": [
    "#imports NaiveBayesClassifier form nltk module and imports pandas\n",
    "import nltk\n",
    "from nltk.classify import NaiveBayesClassifier      \n",
    "nltk_NB = NaiveBayesClassifier.train(training_norm)\n",
    "import pandas as pd"
   ]
  },
  {
   "cell_type": "markdown",
   "id": "8bbfe81a",
   "metadata": {
    "id": "XOcnRsc1bZwm",
    "papermill": {
     "duration": 0.02164,
     "end_time": "2021-11-18T23:24:51.937984",
     "exception": false,
     "start_time": "2021-11-18T23:24:51.916344",
     "status": "completed"
    },
    "tags": []
   },
   "source": [
    "An instance of `ConfusionMatrix` is used calculate the **precision**, **recall** , and **f1-score** of the prediction by the Naive Bayes Classifier. Here we are using the same confusion matrix which we created earlier for calculating the different scores, but we could have also used the inbulit functions in the naive bayes classifier to calculate the same. Both will give the same results."
   ]
  },
  {
   "cell_type": "code",
   "execution_count": 14,
   "id": "14b3a761",
   "metadata": {
    "execution": {
     "iopub.execute_input": "2021-11-18T23:24:51.984611Z",
     "iopub.status.busy": "2021-11-18T23:24:51.983951Z",
     "iopub.status.idle": "2021-11-18T23:24:52.744023Z",
     "shell.execute_reply": "2021-11-18T23:24:52.743522Z",
     "shell.execute_reply.started": "2021-11-18T18:12:15.932293Z"
    },
    "id": "WvYLd13ERA8z",
    "outputId": "48f7040a-7bad-4488-8d37-b4337bd45d26",
    "papermill": {
     "duration": 0.784363,
     "end_time": "2021-11-18T23:24:52.744155",
     "exception": false,
     "start_time": "2021-11-18T23:24:51.959792",
     "status": "completed"
    },
    "tags": []
   },
   "outputs": [
    {
     "name": "stdout",
     "output_type": "stream",
     "text": [
      "The precision of the classifier is 0.6116910229645094\n",
      "The recall of the classifier is 0.9766666666666667\n",
      "The f1-score of the classifier is 0.7522464698331195\n"
     ]
    }
   ],
   "source": [
    "nltk_NB_predictions =nltk_NB.classify_many(docs) # this is the prediction from the naive bayes classifier\n",
    "ConfusionMatrix_2 = ConfusionMatrix(nltk_NB_predictions,goldstandard) #Using a different instance of confusion matrix to calculate the scores\n",
    "precision2 =ConfusionMatrix_2.precision()\n",
    "recall2 = ConfusionMatrix_2.recall()\n",
    "f12 =ConfusionMatrix_2.f1()\n",
    "print(\"The precision of the classifier is {}\".format(precision2))\n",
    "print(\"The recall of the classifier is {}\".format(recall2))\n",
    "print(\"The f1-score of the classifier is {}\".format(f12))"
   ]
  },
  {
   "cell_type": "markdown",
   "id": "82cd7d1a",
   "metadata": {
    "id": "ekV0nO_0kYjn",
    "papermill": {
     "duration": 0.021844,
     "end_time": "2021-11-18T23:24:52.788203",
     "exception": false,
     "start_time": "2021-11-18T23:24:52.766359",
     "status": "completed"
    },
    "tags": []
   },
   "source": [
    "I have created a dictionary of results so that it can be easily converted to a pandas data frame and we can compare the wordlist classifier and Naive Bayes Classifier side by side"
   ]
  },
  {
   "cell_type": "code",
   "execution_count": 15,
   "id": "fb9d9e25",
   "metadata": {
    "execution": {
     "iopub.execute_input": "2021-11-18T23:24:52.842354Z",
     "iopub.status.busy": "2021-11-18T23:24:52.841479Z",
     "iopub.status.idle": "2021-11-18T23:24:52.854702Z",
     "shell.execute_reply": "2021-11-18T23:24:52.855160Z",
     "shell.execute_reply.started": "2021-11-18T18:12:17.017347Z"
    },
    "id": "aT8GASLBWL1l",
    "outputId": "f0a6279b-9e7c-4123-ac59-6912210ec4e5",
    "papermill": {
     "duration": 0.044815,
     "end_time": "2021-11-18T23:24:52.855323",
     "exception": false,
     "start_time": "2021-11-18T23:24:52.810508",
     "status": "completed"
    },
    "tags": []
   },
   "outputs": [
    {
     "data": {
      "text/html": [
       "<div>\n",
       "<style scoped>\n",
       "    .dataframe tbody tr th:only-of-type {\n",
       "        vertical-align: middle;\n",
       "    }\n",
       "\n",
       "    .dataframe tbody tr th {\n",
       "        vertical-align: top;\n",
       "    }\n",
       "\n",
       "    .dataframe thead th {\n",
       "        text-align: right;\n",
       "    }\n",
       "</style>\n",
       "<table border=\"1\" class=\"dataframe\">\n",
       "  <thead>\n",
       "    <tr style=\"text-align: right;\">\n",
       "      <th></th>\n",
       "      <th>WordlistClassifier</th>\n",
       "      <th>NaiveBayesClassifier</th>\n",
       "    </tr>\n",
       "  </thead>\n",
       "  <tbody>\n",
       "    <tr>\n",
       "      <th>Precision</th>\n",
       "      <td>0.567797</td>\n",
       "      <td>0.611691</td>\n",
       "    </tr>\n",
       "    <tr>\n",
       "      <th>Recall</th>\n",
       "      <td>0.893333</td>\n",
       "      <td>0.976667</td>\n",
       "    </tr>\n",
       "    <tr>\n",
       "      <th>f1-score</th>\n",
       "      <td>0.694301</td>\n",
       "      <td>0.752246</td>\n",
       "    </tr>\n",
       "  </tbody>\n",
       "</table>\n",
       "</div>"
      ],
      "text/plain": [
       "           WordlistClassifier  NaiveBayesClassifier\n",
       "Precision            0.567797              0.611691\n",
       "Recall               0.893333              0.976667\n",
       "f1-score             0.694301              0.752246"
      ]
     },
     "execution_count": 15,
     "metadata": {},
     "output_type": "execute_result"
    }
   ],
   "source": [
    "data = {'WordlistClassifier':[precision1,recall1,f11],'NaiveBayesClassifier':[precision2,recall2,f12] } # creating a dictionary of results from both the classifier\n",
    "df = pd.DataFrame(data, index = ['Precision','Recall','f1-score']) #creates pandas dataframe to compare the scores\n",
    "df"
   ]
  },
  {
   "cell_type": "markdown",
   "id": "6f9c2c78",
   "metadata": {
    "id": "BchBS_V4cA9N",
    "papermill": {
     "duration": 0.021941,
     "end_time": "2021-11-18T23:24:52.899756",
     "exception": false,
     "start_time": "2021-11-18T23:24:52.877815",
     "status": "completed"
    },
    "tags": []
   },
   "source": [
    "Pandas data frame is used to make a comparision between `WordListClassifier` and the `nltk_NB` (Naive Bayes Classifier). Frome the generated data frame we can clearly observe that for all the parameters (Precision, Recall and F1-Score), NaiveBayesClassifier has the higher values, which clearly indicates that `NaiveBayesClassifier` is better compared to the created `WordListClassifier`\n",
    "\n",
    "The highest improvement is result is seen in Recall which means that Naive bayes classifier does a good job in retrieving the relevent instances."
   ]
  },
  {
   "cell_type": "markdown",
   "id": "7991ee41",
   "metadata": {
    "papermill": {
     "duration": 0.021982,
     "end_time": "2021-11-18T23:24:52.943988",
     "exception": false,
     "start_time": "2021-11-18T23:24:52.922006",
     "status": "completed"
    },
    "tags": []
   },
   "source": [
    "#### IMPACT OF WORDLIST LENGTH ON WORDLIST CLASSIFIER"
   ]
  },
  {
   "cell_type": "markdown",
   "id": "0b5e58ee",
   "metadata": {
    "id": "NR-xxh47mh9w",
    "papermill": {
     "duration": 0.022163,
     "end_time": "2021-11-18T23:24:52.988265",
     "exception": false,
     "start_time": "2021-11-18T23:24:52.966102",
     "status": "completed"
    },
    "tags": []
   },
   "source": [
    "To Understand the impact of the length of the wordlists on the wordlist classifier, I have created 90 instances of positive and negative word lists using a for-loop with its length increasing by 1 each time. The words are selected in such that the high frequncy words are selected initially and as the word list grows it selects words with comparatively less freqency.\n",
    "\n",
    "In each loop, for each word lists the **accuracy**, **Precision** , **Recall** and **F1-score** is calculated using instance of `ConfusionMatrix`. The results for each are stored in different lists using .append() method."
   ]
  },
  {
   "cell_type": "code",
   "execution_count": 16,
   "id": "e5acce45",
   "metadata": {
    "execution": {
     "iopub.execute_input": "2021-11-18T23:24:53.036179Z",
     "iopub.status.busy": "2021-11-18T23:24:53.035616Z",
     "iopub.status.idle": "2021-11-18T23:25:12.927665Z",
     "shell.execute_reply": "2021-11-18T23:25:12.928180Z",
     "shell.execute_reply.started": "2021-11-18T18:12:17.031235Z"
    },
    "id": "NhxbFBnYRA80",
    "papermill": {
     "duration": 19.917408,
     "end_time": "2021-11-18T23:25:12.928365",
     "exception": false,
     "start_time": "2021-11-18T23:24:53.010957",
     "status": "completed"
    },
    "tags": []
   },
   "outputs": [],
   "source": [
    "#initialising lists so that scores for each loop can be held\n",
    "list_accuracy = []\n",
    "list_precision =[]\n",
    "list_recall = []\n",
    "list_f1 = []\n",
    "\n",
    "for i in range(10,101):\n",
    "  pos_wordlist =[j[0] for j in pos_diff.most_common(i)]\n",
    "  neg_wordlist =[j[0] for j in neg_diff.most_common(i)]\n",
    "  WordListClassifier = SimpleClassifier(pos_wordlist,neg_wordlist)#for each loop we have to initiate the instance of WordListClassifier since the lenth of wordlis is changing\n",
    "  predictions1 = WordListClassifier.classify_many(docs)\n",
    "  list_accuracy.append(classifier_evaluate(WordListClassifier,testing_norm))\n",
    "  ConfusionMatrix_3 = ConfusionMatrix(predictions1,goldstandard)\n",
    "  list_precision.append(ConfusionMatrix_3.precision())\n",
    "  list_recall.append(ConfusionMatrix_3.recall())\n",
    "  list_f1.append(ConfusionMatrix_3.f1())"
   ]
  },
  {
   "cell_type": "code",
   "execution_count": 17,
   "id": "a0180852",
   "metadata": {
    "execution": {
     "iopub.execute_input": "2021-11-18T23:25:12.979637Z",
     "iopub.status.busy": "2021-11-18T23:25:12.978982Z",
     "iopub.status.idle": "2021-11-18T23:25:12.981172Z",
     "shell.execute_reply": "2021-11-18T23:25:12.981620Z",
     "shell.execute_reply.started": "2021-11-18T18:12:41.067167Z"
    },
    "id": "kn9kJ6BtRA80",
    "papermill": {
     "duration": 0.030138,
     "end_time": "2021-11-18T23:25:12.981774",
     "exception": false,
     "start_time": "2021-11-18T23:25:12.951636",
     "status": "completed"
    },
    "tags": []
   },
   "outputs": [],
   "source": [
    "wordlist_length = list(range(10,101))"
   ]
  },
  {
   "cell_type": "markdown",
   "id": "b2de1e0f",
   "metadata": {
    "id": "XiTL47V7qGyP",
    "papermill": {
     "duration": 0.021988,
     "end_time": "2021-11-18T23:25:13.082419",
     "exception": false,
     "start_time": "2021-11-18T23:25:13.060431",
     "status": "completed"
    },
    "tags": []
   },
   "source": [
    "Using matplotlib the graphs for Accuracpy, Precision, Recall and F1 score is plotted and the following results were observed\n",
    "\n",
    "* The precision decreases from 0.59 to 0.54 and then increases again and maintains almost a steaddy value at 0.55 and then decreases again till 0.54\n",
    "\n",
    "* There is no much change in the F1 score and is almost steady at 0.70\n",
    "\n",
    "* The recall is increasing as the wordlist increases from 0.9 to 0.95\n"
   ]
  },
  {
   "cell_type": "code",
   "execution_count": 18,
   "id": "f2696c55",
   "metadata": {
    "execution": {
     "iopub.execute_input": "2021-11-18T23:25:13.150368Z",
     "iopub.status.busy": "2021-11-18T23:25:13.149550Z",
     "iopub.status.idle": "2021-11-18T23:25:13.301169Z",
     "shell.execute_reply": "2021-11-18T23:25:13.300713Z",
     "shell.execute_reply.started": "2021-11-18T18:12:41.07224Z"
    },
    "id": "2AGXMx9vUmGO",
    "outputId": "34efffd9-4d21-424e-d0d5-19557cc5439c",
    "papermill": {
     "duration": 0.196556,
     "end_time": "2021-11-18T23:25:13.301304",
     "exception": false,
     "start_time": "2021-11-18T23:25:13.104748",
     "status": "completed"
    },
    "tags": []
   },
   "outputs": [
    {
     "data": {
      "image/png": "[encoded data removed]",
      "text/plain": [
       "<Figure size 432x288 with 1 Axes>"
      ]
     },
     "metadata": {
      "needs_background": "light"
     },
     "output_type": "display_data"
    }
   ],
   "source": [
    "%matplotlib inline\n",
    "from matplotlib import pyplot as plt\n",
    "#plots precision vs wordlist_length  \n",
    "plt.plot(wordlist_length,list_precision , 'go', label = 'Precision')\n",
    "plt.xlabel('Word List length')\n",
    "plt.legend()\n",
    "plt.show()\n",
    "\n"
   ]
  },
  {
   "cell_type": "code",
   "execution_count": 19,
   "id": "48c551f7",
   "metadata": {
    "execution": {
     "iopub.execute_input": "2021-11-18T23:25:13.368518Z",
     "iopub.status.busy": "2021-11-18T23:25:13.366387Z",
     "iopub.status.idle": "2021-11-18T23:25:13.489096Z",
     "shell.execute_reply": "2021-11-18T23:25:13.489903Z",
     "shell.execute_reply.started": "2021-11-18T18:12:41.308548Z"
    },
    "id": "xD3wC0MjzExP",
    "outputId": "a2e25c34-4854-47b3-b874-6f94172aeab8",
    "papermill": {
     "duration": 0.165595,
     "end_time": "2021-11-18T23:25:13.490174",
     "exception": false,
     "start_time": "2021-11-18T23:25:13.324579",
     "status": "completed"
    },
    "tags": []
   },
   "outputs": [
    {
     "data": {
      "image/png": "[encoded data removed]",
      "text/plain": [
       "<Figure size 432x288 with 1 Axes>"
      ]
     },
     "metadata": {
      "needs_background": "light"
     },
     "output_type": "display_data"
    }
   ],
   "source": [
    "%matplotlib inline\n",
    "#plots recall vs wordlist_length\n",
    "plt.plot(wordlist_length,list_recall, 'r', label = 'Recall')\n",
    "#plots F1 Score vs Wordlist_length\n",
    "plt.plot(wordlist_length, list_f1, label = 'F1 score')\n",
    "plt.legend()\n",
    "plt.show()"
   ]
  },
  {
   "cell_type": "markdown",
   "id": "1cbad307",
   "metadata": {
    "papermill": {
     "duration": 0.023756,
     "end_time": "2021-11-18T23:25:13.541952",
     "exception": false,
     "start_time": "2021-11-18T23:25:13.518196",
     "status": "completed"
    },
    "tags": []
   },
   "source": [
    "### CONCLUSION"
   ]
  },
  {
   "cell_type": "markdown",
   "id": "7e4ca7ac",
   "metadata": {
    "id": "G6dWN39ksKJc",
    "papermill": {
     "duration": 0.023751,
     "end_time": "2021-11-18T23:25:13.591047",
     "exception": false,
     "start_time": "2021-11-18T23:25:13.567296",
     "status": "completed"
    },
    "tags": []
   },
   "source": [
    "For a future work I will probably recommed Naive bayes classifier over word list classifier assuming we have large enough data available. In word list classifier we are not considering the probability of getting a  positive and negative review. We just build the classifier without considering it. But in Naive Bayes classifier we even consider the data distribution by calculating the probability of occurance of the data. Also from this analysis we can see that the scores are better for naive bayes classifier\n",
    "\n",
    "So, hence I recommend Naive Bayes classifier over word list classifier"
   ]
  }
 ],
 "metadata": {
  "kernelspec": {
   "display_name": "Python 3",
   "language": "python",
   "name": "python3"
  },
  "language_info": {
   "codemirror_mode": {
    "name": "ipython",
    "version": 3
   },
   "file_extension": ".py",
   "mimetype": "text/x-python",
   "name": "python",
   "nbconvert_exporter": "python",
   "pygments_lexer": "ipython3",
   "version": "3.7.10"
  },
  "papermill": {
   "default_parameters": {},
   "duration": 42.894273,
   "end_time": "2021-11-18T23:25:14.425770",
   "environment_variables": {},
   "exception": null,
   "input_path": "__notebook__.ipynb",
   "output_path": "__notebook__.ipynb",
   "parameters": {},
   "start_time": "2021-11-18T23:24:31.531497",
   "version": "2.3.3"
  }
 },
 "nbformat": 4,
 "nbformat_minor": 5
}
